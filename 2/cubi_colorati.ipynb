{
 "cells": [
  {
   "cell_type": "markdown",
   "id": "d2041fb2",
   "metadata": {},
   "source": [
    "### Game 1"
   ]
  },
  {
   "cell_type": "markdown",
   "id": "c6782f26",
   "metadata": {},
   "source": [
    "As you walk, the Elf shows you a small bag and some cubes which are either red, green, or blue. Each time you play this game, he will hide a secret number of cubes of each color in the bag, and your goal is to figure out information about the number of cubes.\n",
    "\n",
    "To get information, once a bag has been loaded with cubes, the Elf will reach into the bag, grab a handful of random cubes, show them to you, and then put them back in the bag. He'll do this a few times per game.\n",
    "\n",
    "You play several games and record the information from each game (your puzzle input). Each game is listed with its ID number (like the 11 in Game 11: ...) followed by a semicolon-separated list of subsets of cubes that were revealed from the bag (like 3 red, 5 green, 4 blue).\n",
    "\n",
    "For example, the record of a few games might look like this:\n",
    "\n",
    "Game 1: 3 blue, 4 red; 1 red, 2 green, 6 blue; 2 green\n",
    "Game 2: 1 blue, 2 green; 3 green, 4 blue, 1 red; 1 green, 1 blue\n",
    "Game 3: 8 green, 6 blue, 20 red; 5 blue, 4 red, 13 green; 5 green, 1 red\n",
    "Game 4: 1 green, 3 red, 6 blue; 3 green, 6 red; 3 green, 15 blue, 14 red\n",
    "Game 5: 6 red, 1 blue, 3 green; 2 blue, 1 red, 2 green\n",
    "In game 1, three sets of cubes are revealed from the bag (and then put back again). The first set is 3 blue cubes and 4 red cubes; the second set is 1 red cube, 2 green cubes, and 6 blue cubes; the third set is only 2 green cubes.\n",
    "\n",
    "The Elf would first like to know which games would have been possible if the bag contained only 12 red cubes, 13 green cubes, and 14 blue cubes?\n",
    "\n",
    "In the example above, games 1, 2, and 5 would have been possible if the bag had been loaded with that configuration. However, game 3 would have been impossible because at one point the Elf showed you 20 red cubes at once; similarly, game 4 would also have been impossible because the Elf showed you 15 blue cubes at once. If you add up the IDs of the games that would have been possible, you get 8.\n",
    "\n",
    "Determine which games would have been possible if the bag had been loaded with only 12 red cubes, 13 green cubes, and 14 blue cubes. What is the sum of the IDs of those games?"
   ]
  },
  {
   "cell_type": "code",
   "execution_count": 89,
   "id": "9a8b3f76",
   "metadata": {},
   "outputs": [],
   "source": [
    "#12 red cubes, 13 green cubes, and 14 blue cubes\n",
    "cubes_rule = {\n",
    "    'red':12,\n",
    "    'green':13,\n",
    "    'blue':14\n",
    "}"
   ]
  },
  {
   "cell_type": "code",
   "execution_count": 90,
   "id": "ec20dbe4",
   "metadata": {},
   "outputs": [],
   "source": [
    "def check_line(line):\n",
    "    game = {\n",
    "    'red':0,\n",
    "    'green':0,\n",
    "    'blue':0\n",
    "    }\n",
    "    for elem in range(len(line)):\n",
    "        if line[elem].isnumeric():\n",
    "            if game[line[elem+1]] < int(line[elem]):\n",
    "                game[line[elem+1]] = int(line[elem])\n",
    "    return check_game(game)\n",
    "            "
   ]
  },
  {
   "cell_type": "code",
   "execution_count": 91,
   "id": "9f183812",
   "metadata": {
    "scrolled": true
   },
   "outputs": [
    {
     "name": "stdout",
     "output_type": "stream",
     "text": [
      "Final number is:  2685\n"
     ]
    }
   ],
   "source": [
    "total = 0\n",
    "with open('input.txt') as f:\n",
    "    lines = f.readlines()\n",
    "    for line in lines:\n",
    "        split_line = line.replace(':','').replace(',','').replace(';',' break').split()\n",
    "        game_numb = split_line[1]\n",
    "        game_line = split_line[2:]\n",
    "        if check_line(game_line):\n",
    "            total += int(game_numb)\n",
    "        #number_list = re.findall(r'\\d+', line)\n",
    "        #total += int(number_list[0][0]+number_list[-1][-1])\n",
    "        \n",
    "print('Final number is: ',total)\n",
    "#Your puzzle answer was 2685."
   ]
  },
  {
   "cell_type": "markdown",
   "id": "5c5bd923",
   "metadata": {},
   "source": [
    "### Game 2"
   ]
  },
  {
   "cell_type": "markdown",
   "id": "bce4574b",
   "metadata": {},
   "source": [
    "As you continue your walk, the Elf poses a second question: in each game you played, what is the fewest number of cubes of each color that could have been in the bag to make the game possible?\n",
    "\n",
    "Again consider the example games from earlier:\n",
    "\n",
    "Game 1: 3 blue, 4 red; 1 red, 2 green, 6 blue; 2 green\n",
    "Game 2: 1 blue, 2 green; 3 green, 4 blue, 1 red; 1 green, 1 blue\n",
    "Game 3: 8 green, 6 blue, 20 red; 5 blue, 4 red, 13 green; 5 green, 1 red\n",
    "Game 4: 1 green, 3 red, 6 blue; 3 green, 6 red; 3 green, 15 blue, 14 red\n",
    "Game 5: 6 red, 1 blue, 3 green; 2 blue, 1 red, 2 green\n",
    "In game 1, the game could have been played with as few as 4 red, 2 green, and 6 blue cubes. If any color had even one fewer cube, the game would have been impossible.\n",
    "Game 2 could have been played with a minimum of 1 red, 3 green, and 4 blue cubes.\n",
    "Game 3 must have been played with at least 20 red, 13 green, and 6 blue cubes.\n",
    "Game 4 required at least 14 red, 3 green, and 15 blue cubes.\n",
    "Game 5 needed no fewer than 6 red, 3 green, and 2 blue cubes in the bag.\n",
    "The power of a set of cubes is equal to the numbers of red, green, and blue cubes multiplied together. The power of the minimum set of cubes in game 1 is 48. In games 2-5 it was 12, 1560, 630, and 36, respectively. Adding up these five powers produces the sum 2286.\n",
    "\n",
    "For each game, find the minimum set of cubes that must have been present. What is the sum of the power of these sets?\n",
    "\n"
   ]
  },
  {
   "cell_type": "code",
   "execution_count": 92,
   "id": "73df03f5",
   "metadata": {},
   "outputs": [],
   "source": [
    "def check_line(line):\n",
    "    game = {\n",
    "    'red':0,\n",
    "    'green':0,\n",
    "    'blue':0\n",
    "    }\n",
    "    for elem in range(len(line)):\n",
    "        if line[elem].isnumeric():\n",
    "            if game[line[elem+1]] < int(line[elem]):\n",
    "                game[line[elem+1]] = int(line[elem])\n",
    "    mult = 1\n",
    "    for num in list(game.values()):\n",
    "        mult *= num\n",
    "    return mult\n",
    "            "
   ]
  },
  {
   "cell_type": "code",
   "execution_count": 93,
   "id": "a34b4df2",
   "metadata": {},
   "outputs": [
    {
     "name": "stdout",
     "output_type": "stream",
     "text": [
      "Final number is:  83707\n"
     ]
    }
   ],
   "source": [
    "total = 0\n",
    "with open('input.txt') as f:\n",
    "    lines = f.readlines()\n",
    "    for line in lines:\n",
    "        split_line = line.replace(':','').replace(',','').replace(';',' break').split()\n",
    "        game_numb = split_line[1]\n",
    "        game_line = split_line[2:]\n",
    "        total += check_line(game_line)\n",
    "        #number_list = re.findall(r'\\d+', line)\n",
    "        #total += int(number_list[0][0]+number_list[-1][-1])\n",
    "        \n",
    "print('Final number is: ',total)\n",
    "#Your puzzle answer was 83707."
   ]
  },
  {
   "cell_type": "code",
   "execution_count": null,
   "id": "1dbbf8c2",
   "metadata": {},
   "outputs": [],
   "source": []
  }
 ],
 "metadata": {
  "kernelspec": {
   "display_name": "Python 3",
   "language": "python",
   "name": "python3"
  },
  "language_info": {
   "codemirror_mode": {
    "name": "ipython",
    "version": 3
   },
   "file_extension": ".py",
   "mimetype": "text/x-python",
   "name": "python",
   "nbconvert_exporter": "python",
   "pygments_lexer": "ipython3",
   "version": "3.8.17"
  }
 },
 "nbformat": 4,
 "nbformat_minor": 5
}
