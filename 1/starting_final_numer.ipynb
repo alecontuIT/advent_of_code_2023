{
 "cells": [
  {
   "cell_type": "markdown",
   "id": "454e28b9",
   "metadata": {},
   "source": [
    "### Game 1"
   ]
  },
  {
   "cell_type": "markdown",
   "id": "3852790b",
   "metadata": {},
   "source": [
    "The newly-improved calibration document consists of lines of text; each line originally contained a specific calibration value that the Elves now need to recover. On each line, the calibration value can be found by combining the first digit and the last digit (in that order) to form a single two-digit number.\n",
    "\n",
    "For example:\n",
    "\n",
    "1abc2\n",
    "\n",
    "pqr3stu8vwx \n",
    "\n",
    "a1b2c3d4e5f \n",
    "\n",
    "treb7uchet\n",
    "\n",
    "In this example, the calibration values of these four lines are 12, 38, 15, and 77. Adding these together produces 142.\n",
    "\n",
    "Consider your entire calibration document. What is the sum of all of the calibration values?"
   ]
  },
  {
   "cell_type": "code",
   "execution_count": 1,
   "id": "4b4b74b9",
   "metadata": {},
   "outputs": [],
   "source": [
    "import re"
   ]
  },
  {
   "cell_type": "code",
   "execution_count": 2,
   "id": "699dbe83",
   "metadata": {
    "scrolled": true
   },
   "outputs": [
    {
     "name": "stdout",
     "output_type": "stream",
     "text": [
      "Final number is:  53386\n"
     ]
    }
   ],
   "source": [
    "total = 0\n",
    "with open('input.txt') as f:\n",
    "    lines = f.readlines()\n",
    "    for line in lines:\n",
    "        number_list = re.findall(r'\\d+', line)\n",
    "        total += int(number_list[0][0]+number_list[-1][-1])\n",
    "        \n",
    "print('Final number is: ',total)\n",
    "#Your puzzle answer was 53386."
   ]
  },
  {
   "cell_type": "markdown",
   "id": "4557a942",
   "metadata": {},
   "source": [
    "### Game 2"
   ]
  },
  {
   "cell_type": "markdown",
   "id": "74f22c76",
   "metadata": {},
   "source": [
    "Your calculation isn't quite right. It looks like some of the digits are actually spelled out with letters: one, two, three, four, five, six, seven, eight, and nine also count as valid \"digits\".\n",
    "\n",
    "Equipped with this new information, you now need to find the real first and last digit on each line. For example:\n",
    "\n",
    "two1nine\n",
    "eightwothree\n",
    "abcone2threexyz\n",
    "xtwone3four\n",
    "4nineeightseven2\n",
    "zoneight234\n",
    "7pqrstsixteen\n",
    "In this example, the calibration values are 29, 83, 13, 24, 42, 14, and 76. Adding these together produces 281."
   ]
  },
  {
   "cell_type": "code",
   "execution_count": 3,
   "id": "a03f7fae",
   "metadata": {},
   "outputs": [],
   "source": [
    "def replace_numbers(text):\n",
    "    text = text.replace('one','1').replace('two','2').replace('three','3').replace('four','4').\\\n",
    "        replace('five','5').replace('six','6').replace('seven','7').replace('eigh','8').replace('nine','9')\n",
    "    return text"
   ]
  },
  {
   "cell_type": "code",
   "execution_count": 6,
   "id": "ae411c83",
   "metadata": {},
   "outputs": [],
   "source": [
    "def find_and_replace(text):\n",
    "    numb_list = {'one':'1','two':'2','three':'3','four':'4','five':'5','six':'6','seven':'7','eight':'8','nine':'9'}    \n",
    "    while True:\n",
    "        indexes=[text.find(numb) for numb in numb_list]\n",
    "        if sum(indexes) == -9:\n",
    "            break\n",
    "        else:\n",
    "            numb_idx = indexes.index(min([index for index in indexes if index != -1]))\n",
    "            number = list(numb_list.keys())[numb_idx]\n",
    "            text=re.sub(number, numb_list[number]+number[-1], text, 1)\n",
    "    return text\n"
   ]
  },
  {
   "cell_type": "code",
   "execution_count": 8,
   "id": "88fff170",
   "metadata": {},
   "outputs": [
    {
     "name": "stdout",
     "output_type": "stream",
     "text": [
      "Final number is:  53312\n"
     ]
    }
   ],
   "source": [
    "total = 0\n",
    "with open('input.txt') as f:\n",
    "    lines = f.readlines()\n",
    "    for line in lines:\n",
    "        line = find_and_replace(line)\n",
    "        number_list = re.findall(r'\\d+', line)\n",
    "        total += int(number_list[0][0]+number_list[-1][-1])\n",
    "        \n",
    "print('Final number is: ',total)\n",
    "#Your puzzle answer was 53312."
   ]
  },
  {
   "cell_type": "code",
   "execution_count": null,
   "id": "184ed8c6",
   "metadata": {},
   "outputs": [],
   "source": []
  }
 ],
 "metadata": {
  "kernelspec": {
   "display_name": "Python 3",
   "language": "python",
   "name": "python3"
  },
  "language_info": {
   "codemirror_mode": {
    "name": "ipython",
    "version": 3
   },
   "file_extension": ".py",
   "mimetype": "text/x-python",
   "name": "python",
   "nbconvert_exporter": "python",
   "pygments_lexer": "ipython3",
   "version": "3.8.17"
  }
 },
 "nbformat": 4,
 "nbformat_minor": 5
}
